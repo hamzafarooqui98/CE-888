{
  "nbformat": 4,
  "nbformat_minor": 0,
  "metadata": {
    "colab": {
      "name": "Copy of bootstrap.ipynb",
      "provenance": []
    },
    "kernelspec": {
      "display_name": "Python 3",
      "language": "python",
      "name": "python3"
    },
    "language_info": {
      "codemirror_mode": {
        "name": "ipython",
        "version": 3
      },
      "file_extension": ".py",
      "mimetype": "text/x-python",
      "name": "python",
      "nbconvert_exporter": "python",
      "pygments_lexer": "ipython3",
      "version": "3.7.6"
    },
    "pycharm": {
      "stem_cell": {
        "cell_type": "raw",
        "metadata": {
          "collapsed": false
        },
        "source": []
      }
    }
  },
  "cells": [
    {
      "cell_type": "markdown",
      "metadata": {
        "id": "nCi_99yMYIb1"
      },
      "source": [
        "In this notebook you'll create your own bootstrap function following the bootstrap algorithm (check the lecture notes!)"
      ]
    },
    {
      "cell_type": "code",
      "metadata": {
        "id": "LY5zujI2YC37",
        "pycharm": {
          "name": "#%%# Imports\n"
        }
      },
      "source": [
        "import matplotlib.pyplot as plt\n",
        "import pandas as pd\n",
        "import seaborn as sns\n",
        "import numpy as np\n",
        "\n"
      ],
      "execution_count": 2,
      "outputs": []
    },
    {
      "cell_type": "code",
      "metadata": {
        "id": "Eqkwj4SMY38t",
        "colab": {
          "base_uri": "https://localhost:8080/"
        },
        "outputId": "0574bdae-499c-48b9-9085-9f0df66de584"
      },
      "source": [
        "# Load the data\n",
        "df = pd.read_csv('https://raw.githubusercontent.com/albanda/CE888/master/lab2%20-%20bootstrap/customers.csv')\n",
        "data = df.values.T[1]"
      ],
      "execution_count": 5,
      "outputs": [
        {
          "output_type": "stream",
          "name": "stdout",
          "text": [
            "[ 2.  8. 20. 13.  5.  9. 10.  8. 22. 10.  2.  4.  7.  9.]\n"
          ]
        }
      ]
    },
    {
      "cell_type": "code",
      "metadata": {
        "id": "Gxvc_bScYC4H",
        "pycharm": {
          "name": "#%%\n"
        }
      },
      "source": [
        "# Checking the notes from the lecture, create here your own bootstrap function:\n",
        "# 1. Sample from the input array x to create an array of samples of shape (n_bootstraps, sample_size)\n",
        "# Hint: Check the function random.choice() on Numpy\n",
        "# 2. Calculate and save the mean of the array (this is \"data_mean\" that is returned by the function)\n",
        "# 3. Calculate the mean from each bootstrap (i.e., row) and store it.\n",
        "# (This should be an array of n_bootstraps values)\n",
        "# 4. Calculate the lower and upper bounds for a 95% CI (hint: check the percentile function on Numpy)\n",
        "# 5. Return data_mean, and the lower and upper bounds of your interval\n",
        "def bootstrap_mean(x, sample_size, n_bootstraps):\n",
        "\t# <---INSERT YOUR CODE HERE--->\n",
        "\tmean_array = []\n",
        "\tfor i in range(1,n_bootstraps + 1):\n",
        "\t\tmean_array.append(np.mean(np.random.choice(x,sample_size)))\n",
        "\tsorted_array = np.sort(mean_array)\n",
        "\tlower = np.percentile(sorted_array, 2.5)\n",
        "\tupper = np.percentile(sorted_array, 97.5)\n",
        "\tdata_mean = np.mean(mean_array)\n",
        " \n",
        "\treturn data_mean, lower, upper\n"
      ],
      "execution_count": null,
      "outputs": []
    },
    {
      "cell_type": "code",
      "metadata": {
        "id": "AN7sEOcMYC4P",
        "pycharm": {
          "name": "#%%\n"
        },
        "outputId": "57a3aee4-1aa4-4b8d-df92-323d1a6af924",
        "colab": {
          "base_uri": "https://localhost:8080/",
          "height": 444
        }
      },
      "source": [
        "# Call your bootstrap function and plot the results\n",
        "\n",
        "boots = []\n",
        "for i in range(100, 50000, 1000):\n",
        "    boot = bootstrap_mean(data, data.shape[0], i)\n",
        "    boots.append([i, boot[0], \"mean\"])\n",
        "    boots.append([i, boot[1], \"lower\"])\n",
        "    boots.append([i, boot[2], \"upper\"])\n",
        "\n",
        "df_boot = pd.DataFrame(boots, columns=['Bootstrap Iterations', 'Mean', \"Value\"])\n",
        "sns_plot = sns.lmplot(df_boot.columns[0], df_boot.columns[1], data=df_boot, fit_reg=False, hue=\"Value\")\n",
        "\n",
        "sns_plot.axes[0, 0].set_ylim(0,)\n",
        "sns_plot.axes[0, 0].set_xlim(0, 50000)\n"
      ],
      "execution_count": null,
      "outputs": [
        {
          "output_type": "stream",
          "name": "stderr",
          "text": [
            "/usr/local/lib/python3.7/dist-packages/seaborn/_decorators.py:43: FutureWarning: Pass the following variables as keyword args: x, y. From version 0.12, the only valid positional argument will be `data`, and passing other arguments without an explicit keyword will result in an error or misinterpretation.\n",
            "  FutureWarning\n"
          ]
        },
        {
          "output_type": "execute_result",
          "data": {
            "text/plain": [
              "(0.0, 50000.0)"
            ]
          },
          "metadata": {},
          "execution_count": 6
        },
        {
          "output_type": "display_data",
          "data": {
            "image/png": "[encoded data removed]",
            "text/plain": [
              "<Figure size 425.125x360 with 1 Axes>"
            ]
          },
          "metadata": {
            "needs_background": "light"
          }
        }
      ]
    },
    {
      "cell_type": "markdown",
      "metadata": {
        "id": "MjtP4e2_YC4V"
      },
      "source": [
        "\n",
        "Now, modify the bootstrap function you created above so that you can pass your desired confidence interval as a parameter.\n",
        "\n"
      ]
    },
    {
      "cell_type": "code",
      "metadata": {
        "id": "3K9j0FuGYhHs"
      },
      "source": [
        "def bootstrap_mean_ci(sample, sample_size, n_bootstraps, ci):\n",
        "\t# <---INSERT YOUR CODE HERE--->\n",
        "\tmean_array = []\n",
        "\tfor i in range(1,n_bootstraps + 1):\n",
        "\t\tmean_array.append(np.mean(np.random.choice(sample,sample_size)))\n",
        "\tsorted_array = np.sort(mean_array)\n",
        "\tci_breaker = (100-ci)/2\n",
        "\tlower = np.percentile(sorted_array, ci_breaker)\n",
        "\tupper = np.percentile(sorted_array, ci + ci_breaker)\n",
        "\tdata_mean = np.mean(mean_array)\n",
        "\treturn data_mean, lower, upper"
      ],
      "execution_count": 4,
      "outputs": []
    },
    {
      "cell_type": "code",
      "metadata": {
        "id": "uDnjq08GYl-C",
        "outputId": "afffeda6-c90e-425e-fa54-6aeab368bf99",
        "colab": {
          "base_uri": "https://localhost:8080/",
          "height": 444
        }
      },
      "source": [
        "boots = []\n",
        "for i in range(100, 50000, 1000):\n",
        "    boot = bootstrap_mean_ci(data, data.shape[0], i, 80)\n",
        "    boots.append([i, boot[0], \"mean\"])\n",
        "    boots.append([i, boot[1], \"lower\"])\n",
        "    boots.append([i, boot[2], \"upper\"])\n",
        "\n",
        "df_boot = pd.DataFrame(boots, columns=['Boostrap Iterations', 'Mean', \"Value\"])\n",
        "sns_plot = sns.lmplot(df_boot.columns[0], df_boot.columns[1], data=df_boot, fit_reg=False, hue=\"Value\")\n",
        "\n",
        "sns_plot.axes[0, 0].set_ylim(0,)\n",
        "sns_plot.axes[0, 0].set_xlim(0, 50000)\n",
        "\n",
        "#sns_plot.savefig(\"bootstrap_confidence_80.pdf\", bbox_inches='tight')\n"
      ],
      "execution_count": null,
      "outputs": [
        {
          "output_type": "stream",
          "name": "stderr",
          "text": [
            "/usr/local/lib/python3.7/dist-packages/seaborn/_decorators.py:43: FutureWarning: Pass the following variables as keyword args: x, y. From version 0.12, the only valid positional argument will be `data`, and passing other arguments without an explicit keyword will result in an error or misinterpretation.\n",
            "  FutureWarning\n"
          ]
        },
        {
          "output_type": "execute_result",
          "data": {
            "text/plain": [
              "(0.0, 50000.0)"
            ]
          },
          "metadata": {},
          "execution_count": 8
        },
        {
          "output_type": "display_data",
          "data": {
            "image/png": "[encoded data removed]",
            "text/plain": [
              "<Figure size 425.125x360 with 1 Axes>"
            ]
          },
          "metadata": {
            "needs_background": "light"
          }
        }
      ]
    },
    {
      "cell_type": "markdown",
      "metadata": {
        "id": "qjNgXW6wdd7r"
      },
      "source": [
        "# Vehicles dataset\n",
        "\n",
        "Now let's work on a different dataset, which is stored in the vehicles.csv file.\n"
      ]
    },
    {
      "cell_type": "code",
      "metadata": {
        "id": "avWv4ipFdpka",
        "outputId": "3e6001de-dbaa-432a-92f0-87db4bb4c419",
        "colab": {
          "base_uri": "https://localhost:8080/",
          "height": 459
        }
      },
      "source": [
        "# data = df[df.columns[1]].values\n",
        "# sns.lmplot(df.columns[0], df.columns[1], data=df, fit_reg=False)\n",
        "# Load and visualise the vehicles dataset\n",
        "# To load the dataset: https://neptune.ai/blog/google-colab-dealing-with-files (check section \"Load individual files directly from GitHub\")\n",
        "vehicles = pd.read_csv('https://raw.githubusercontent.com/albanda/CE888/master/lab2%20-%20bootstrap/vehicles.csv')\n",
        "current_v_data = vehicles[vehicles.columns[0]].values\n",
        "new = vehicles.dropna(subset=['New Fleet'])\n",
        "new_v_data = new.values.T[1]\n",
        "print(new_v_data)\n",
        "\n",
        "\n",
        "# Note that the current and new fleets are in different columns and have different lengths, so bear this in mind when you're plotting.\n",
        "# You can create separate scatterplots for the two fleets, as you would with the histograms, \n",
        "# or plot them both in one plot (but not one against the other).\n",
        "# <---INSERT YOUR CODE HERE--->\n",
        "# sns.distplot(vehicles['Current fleet'])\n",
        "# sns.distplot(vehicles['Current fleet'],kde=False,bins=5)\n",
        "\n",
        "sns.distplot(new_v_data,hist= True,bins=100)\n",
        "sns.distplot(current_v_data,hist=True,bins=100)\n",
        "\n",
        "# sns.distplot(vehicles['New Fleet'])\n",
        "# sns.distplot(vehicles['New Fleet'],kde=False,bins=5)\n",
        "# fig, ax = plt.subplots(nrows=1, ncols=2, figsize=(10,4))\n",
        "# sns.histplot(data=vehicles, x='Current fleet', ax=ax[0])\n",
        "# sns.boxplot(data=vehicles, x='Current fleet', ax=ax[1]);\n",
        "#sns.boxplot(x=vehicles['Current fleet'])\n",
        "#sns.boxplot(x='Current Fleet', data=current_v_data)\n",
        "#sns.displot(data=current_v_data, x=\"Current Fleet\")\n",
        "#sns.displot(data=new_v_data, x=\"New Fleet\")\n",
        "#sns.distplot(current_v_data, bins=20, kde=False, rug=True)\n",
        "#sns.distplot(new_v_data, bins=20, kde=False, rug=True)\n",
        "# Note: you can add more cells as needed to organise your code and your plots\n"
      ],
      "execution_count": 9,
      "outputs": [
        {
          "output_type": "stream",
          "name": "stdout",
          "text": [
            "[24. 27. 27. 25. 31. 35. 24. 19. 28. 23. 27. 20. 22. 18. 20. 31. 32. 31.\n",
            " 32. 24. 26. 29. 24. 24. 33. 33. 32. 28. 19. 32. 34. 26. 30. 22. 22. 33.\n",
            " 39. 36. 28. 27. 21. 24. 30. 34. 32. 38. 37. 30. 31. 37. 32. 47. 41. 45.\n",
            " 34. 33. 24. 32. 39. 35. 32. 37. 38. 34. 34. 32. 33. 32. 25. 24. 37. 31.\n",
            " 36. 36. 34. 38. 32. 38. 32.]\n"
          ]
        },
        {
          "output_type": "stream",
          "name": "stderr",
          "text": [
            "/usr/local/lib/python3.7/dist-packages/seaborn/distributions.py:2619: FutureWarning: `distplot` is a deprecated function and will be removed in a future version. Please adapt your code to use either `displot` (a figure-level function with similar flexibility) or `histplot` (an axes-level function for histograms).\n",
            "  warnings.warn(msg, FutureWarning)\n",
            "/usr/local/lib/python3.7/dist-packages/seaborn/distributions.py:2619: FutureWarning: `distplot` is a deprecated function and will be removed in a future version. Please adapt your code to use either `displot` (a figure-level function with similar flexibility) or `histplot` (an axes-level function for histograms).\n",
            "  warnings.warn(msg, FutureWarning)\n"
          ]
        },
        {
          "output_type": "execute_result",
          "data": {
            "text/plain": [
              "<matplotlib.axes._subplots.AxesSubplot at 0x7efe12940310>"
            ]
          },
          "metadata": {},
          "execution_count": 9
        },
        {
          "output_type": "display_data",
          "data": {
            "image/png": "[encoded data removed]",
            "text/plain": [
              "<Figure size 432x288 with 1 Axes>"
            ]
          },
          "metadata": {
            "needs_background": "light"
          }
        }
      ]
    },
    {
      "cell_type": "markdown",
      "metadata": {
        "id": "B5d0tXDpIEj8"
      },
      "source": [
        "## Compare the two fleets\n",
        "\n",
        "The business analysts come up a comparison algorithm that requires the upper and lower bounds for the mean in order to say which fleet is better.\n",
        "1. Calculate the mean of both samples.\n",
        "2. Using the bootstrap function that you created:\n",
        "    - Construct the 95% CI of the mean of the current fleet.\n",
        "    - Construct the 95% CI of the mean of the new fleet.\n",
        "    - Are they comparable? (i.e., is one better than the other?) -- you can do this with a permutation test (check the lecture notes!)"
      ]
    },
    {
      "cell_type": "code",
      "metadata": {
        "id": "MkxvDZG4HC0n"
      },
      "source": [
        "# Create your own function for a permutation test here (you will need it for the lab quiz!):\n",
        "def permut_test(sample1, sample2, n_permutations):\n",
        "    \"\"\"\n",
        "    sample1: 1D array\n",
        "    sample2: 1D array (note that the size of the two arrays can be different)\n",
        "    n_permutations: number of permutations to calculate the p-value\n",
        "    \"\"\"\n",
        "    global observed_difference_mean\n",
        "    greater_diff_permutations = []\n",
        "    concat = np.concatenate((sample1, sample2), axis=None)\n",
        "    # print(concat)\n",
        "    for i in range(1, n_permutations + 1):\n",
        "      perm = np.random.permutation(concat)\n",
        "      # print(perm)\n",
        "      pold = perm[ : int(len(perm/2))]\n",
        "      pnew = perm[int(len(perm)/2) : ]\n",
        "      mean_of_pold = np.mean(pold)\n",
        "      mean_of_pnew = np.mean(pnew)\n",
        "      permuted_diff_mean = mean_of_pnew - mean_of_pold\n",
        "      if (permuted_diff_mean > observed_difference_mean):\n",
        "        greater_diff_permutations.append(permuted_diff_mean)\n",
        "\n",
        "    #print(greater_diff_permutations)\n",
        "    pvalue = len(greater_diff_permutations)/n_permutations\n",
        "    \n",
        "    return pvalue"
      ],
      "execution_count": 32,
      "outputs": []
    },
    {
      "cell_type": "code",
      "metadata": {
        "id": "po4mp6zRHC0m",
        "colab": {
          "base_uri": "https://localhost:8080/"
        },
        "outputId": "8cdc8ac7-72c7-40b1-e1f5-ed2239d5cf2a"
      },
      "source": [
        "# <---INSERT YOUR CODE HERE--->\n",
        "# For current vehicles\n",
        "#bootstrap_mean_ci(sample, sample_size, n_bootstraps, ci)\n",
        "#\"{:.2f}\".format(float)\n",
        "confidence_interval_c_stats = 80\n",
        "confidence_interval_n_stats = 95\n",
        "c_stats = bootstrap_mean_ci(current_v_data, len(current_v_data), 10000, confidence_interval_c_stats)\n",
        "n_stats = bootstrap_mean_ci(new_v_data, len(new_v_data), 1000, confidence_interval_n_stats)\n",
        "print(\"The current fleet has a\",confidence_interval_c_stats, \"% confidence interval mean of\", c_stats[0],\"with lower limit\", c_stats[1], \"and upper limit\", c_stats[2])\n",
        "print(\"The new fleet has a\", confidence_interval_n_stats, \"% confidence interval mean of\", n_stats[0],\"with lower limit\", n_stats[1], \"and upper limit\", n_stats[2])\n",
        "observed_difference_mean = n_stats[0] - c_stats[0]\n",
        "p_value = permut_test(current_v_data, new_v_data, 3000)\n",
        "print(\"The p-value is:\", p_value)\n",
        "if( p_value < 0.01 ):\n",
        "  print(\"The New fleet is better since the the p-value is < 5% significance level\")\n",
        "else:\n",
        "  print(\"The Old fleet is better since the p-value is > 5% significance level\")"
      ],
      "execution_count": 33,
      "outputs": [
        {
          "output_type": "stream",
          "name": "stdout",
          "text": [
            "The current fleet has a 80 % confidence interval mean of 20.14348995983936 with lower limit 19.61847389558233 and upper limit 20.662650602409638\n",
            "The new fleet has a 95 % confidence interval mean of 30.497354430379747 with lower limit 29.037974683544302 and upper limit 31.772151898734176\n",
            "The p-value is: 0.0\n",
            "The New fleet is better since the the p-value is < 5% significance level\n"
          ]
        }
      ]
    },
    {
      "cell_type": "code",
      "source": [
        "ans = bootstrap_mean_ci(data, len(data), 10000, 95)\n"
      ],
      "metadata": {
        "id": "jW4hKZfFhpUC"
      },
      "execution_count": 30,
      "outputs": []
    },
    {
      "cell_type": "code",
      "source": [
        "ans"
      ],
      "metadata": {
        "colab": {
          "base_uri": "https://localhost:8080/"
        },
        "id": "VRn4R4mZeSBR",
        "outputId": "3906c589-3a8d-4c8b-b42e-ebc7fed37999"
      },
      "execution_count": 31,
      "outputs": [
        {
          "output_type": "execute_result",
          "data": {
            "text/plain": [
              "(9.2165, 6.428571428571429, 12.357142857142858)"
            ]
          },
          "metadata": {},
          "execution_count": 31
        }
      ]
    },
    {
      "cell_type": "code",
      "source": [
        "def bootstrap_std_dev_ci(sample, sample_size, n_bootstraps, ci):\n",
        "\t# <---INSERT YOUR CODE HERE--->\n",
        "\tstd_dev_array = []\n",
        "\tfor i in range(1,n_bootstraps + 1):\n",
        "\t\tstd_dev_array.append(np.std(np.random.choice(sample,sample_size)))\n",
        "\tsorted_array = np.sort(std_dev_array)\n",
        "\tci_breaker = (100-ci)/2\n",
        "\tlower = np.percentile(sorted_array, ci_breaker)\n",
        "\tupper = np.percentile(sorted_array, ci + ci_breaker)\n",
        "\tdata_std_dev = np.mean(std_dev_array)\n",
        "\treturn data_std_dev, lower, upper"
      ],
      "metadata": {
        "id": "FLBKC5k_eTPK"
      },
      "execution_count": 12,
      "outputs": []
    },
    {
      "cell_type": "code",
      "source": [
        "std = bootstrap_std_dev_ci(new_v_data, len(new_v_data), 10000, 99)"
      ],
      "metadata": {
        "id": "MduUKVXbf62H"
      },
      "execution_count": 38,
      "outputs": []
    },
    {
      "cell_type": "code",
      "source": [
        "std"
      ],
      "metadata": {
        "colab": {
          "base_uri": "https://localhost:8080/"
        },
        "id": "o5dfFDx7gbFx",
        "outputId": "417107df-fddf-4e97-a95f-614a05a5cd53"
      },
      "execution_count": 39,
      "outputs": [
        {
          "output_type": "execute_result",
          "data": {
            "text/plain": [
              "(6.01345930735418, 4.845998155402771, 7.19016077944891)"
            ]
          },
          "metadata": {},
          "execution_count": 39
        }
      ]
    },
    {
      "cell_type": "code",
      "source": [
        "dem_share_PA = [60.08, 40.64, 36.07, 41.21, 31.04, 43.78, 44.08, 46.85, 44.71, 46.15, 63.10, 52.20, 43.18, 40.24, 39.92, 47.87, 37.77, 40.11, 49.85, 48.61, 38.62, 54.25, 34.84, 47.75, 43.82, 55.97, 58.23, 42.97, 42.38, 36.11, 37.53, 42.65, 50.96, 47.43, 56.24, 45.60, 46.39, 35.22, 48.56, 32.97, 57.88, 36.05, 37.72, 50.36, 32.12, 41.55, 54.66, 57.81, 54.58, 32.88, 54.37, 40.45, 47.61, 60.49, 43.11, 27.32, 44.03, 33.56, 37.26, 54.64, 43.12, 25.34, 49.79, 83.56, 40.09, 60.81, 49.81]\n",
        "dem_share_OH = [56.94, 50.46, 65.99, 45.88, 42.23, 45.26, 57.01, 53.61, 59.10, 61.48, 43.43, 44.69, 54.59, 48.36, 45.89, 48.62, 43.92, 38.23, 28.79, 63.57, 38.07, 40.18, 43.05, 41.56, 42.49, 36.06, 52.76, 46.07, 39.43, 39.26, 47.47, 27.92, 38.01, 45.45, 29.07, 28.94, 51.28, 50.10, 39.84, 36.43, 35.71, 31.47, 47.01, 40.10, 48.76, 31.56, 39.86, 45.31, 35.47, 51.38, 46.33, 48.73, 41.77, 41.32, 48.46, 53.14, 34.01, 54.74, 40.67, 38.96, 46.29, 38.25, 6.80, 31.75, 46.33, 44.90, 33.57, 38.10, 39.67, 40.47, 49.44, 37.62, 36.71, 46.73, 42.20, 53.16, 52.40, 58.36, 68.02, 38.53, 34.58, 69.64, 60.50, 53.53, 36.54, 49.58, 41.97, 38.11]\n"
      ],
      "metadata": {
        "id": "A0lbq-IjY6LG"
      },
      "execution_count": 43,
      "outputs": []
    },
    {
      "cell_type": "code",
      "source": [
        "len(dem_share_PA)"
      ],
      "metadata": {
        "colab": {
          "base_uri": "https://localhost:8080/"
        },
        "id": "dmImuo6Ece0R",
        "outputId": "12a7d167-560d-43a4-8bf3-52c2de27ca1c"
      },
      "execution_count": 44,
      "outputs": [
        {
          "output_type": "execute_result",
          "data": {
            "text/plain": [
              "67"
            ]
          },
          "metadata": {},
          "execution_count": 44
        }
      ]
    },
    {
      "cell_type": "code",
      "source": [
        "len(dem_share_OH)"
      ],
      "metadata": {
        "colab": {
          "base_uri": "https://localhost:8080/"
        },
        "id": "VcRyGjlfcida",
        "outputId": "f16b53e8-6f0b-400a-fc1e-a967d4da4d56"
      },
      "execution_count": 45,
      "outputs": [
        {
          "output_type": "execute_result",
          "data": {
            "text/plain": [
              "88"
            ]
          },
          "metadata": {},
          "execution_count": 45
        }
      ]
    },
    {
      "cell_type": "code",
      "source": [
        "confidence_interval_ohio = 95\n",
        "confidence_interval_Pennsylvania = 95\n",
        "ohio = bootstrap_mean_ci(dem_share_OH, len(dem_share_OH), 20000, confidence_interval_ohio)\n",
        "Pennsylvania = bootstrap_mean_ci(dem_share_PA, len(dem_share_PA), 20000, confidence_interval_Pennsylvania)\n",
        "print(\"Ohio has a\",confidence_interval_ohio, \"% confidence interval mean of\", ohio[0],\"with lower limit\", ohio[1], \"and upper limit\", ohio[2])\n",
        "print(\"Pennsylvania has a\", confidence_interval_Pennsylvania, \"% confidence interval mean of\", Pennsylvania[0],\"with lower limit\", Pennsylvania[1], \"and upper limit\", Pennsylvania[2])\n",
        "observed_difference_mean = Pennsylvania[0] - ohio[0]\n",
        "p_value = permut_test(dem_share_OH, dem_share_PA, 10000)\n",
        "print(\"The p-value is:\", p_value)\n",
        "if( p_value < 0.05 ):\n",
        "  print(\"The Pennsylvania voters are likely better since the the p-value is < 5% significance level\")\n",
        "else:\n",
        "  print(\"The Ohio voters are likely better since the p-value is > 5% significance level\")"
      ],
      "metadata": {
        "colab": {
          "base_uri": "https://localhost:8080/"
        },
        "id": "D8MWcQ1lcnKl",
        "outputId": "278c5a79-0fb6-478d-a986-3ea721b95623"
      },
      "execution_count": 53,
      "outputs": [
        {
          "output_type": "stream",
          "name": "stdout",
          "text": [
            "Ohio has a 95 % confidence interval mean of 44.31422493181819 with lower limit 42.253741477272726 and upper limit 46.34011647727273\n",
            "Pennsylvania has a 95 % confidence interval mean of 45.47928885820895 with lower limit 43.1993656716418 and upper limit 47.84824253731343\n",
            "The p-value is: 0.067\n",
            "The Ohio voters are likely better since the p-value is > 5% significance level\n"
          ]
        }
      ]
    }
  ]
}